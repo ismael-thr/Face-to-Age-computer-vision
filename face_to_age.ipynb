{
 "cells": [
  {
   "cell_type": "markdown",
   "metadata": {
    "id": "WCk2YEqBhdP2"
   },
   "source": [
    "## CNN - Face to Age"
   ]
  },
  {
   "cell_type": "markdown",
   "metadata": {
    "id": "gv76LFXjqzau"
   },
   "source": [
    "### 1.1 Visualizing images"
   ]
  },
  {
   "cell_type": "markdown",
   "metadata": {},
   "source": [
    "**Loading the dataset**"
   ]
  },
  {
   "cell_type": "code",
   "execution_count": 1,
   "metadata": {},
   "outputs": [],
   "source": [
    "import pandas as pd\n",
    "import matplotlib.pyplot as plt\n",
    "import seaborn as sns\n",
    "import numpy as np"
   ]
  },
  {
   "cell_type": "code",
   "execution_count": 2,
   "metadata": {
    "ExecuteTime": {
     "end_time": "2021-09-10T13:30:08.917089Z",
     "start_time": "2021-09-10T13:30:01.851323Z"
    },
    "executionInfo": {
     "elapsed": 10102,
     "status": "ok",
     "timestamp": 1615229794824,
     "user": {
      "displayName": "Bruno Lajoie",
      "photoUrl": "https://lh3.googleusercontent.com/a-/AOh14Gg0dl6gThG8gOPbCvHbgt62zQnsi8cgbQ7C5HkD_Cg=s64",
      "userId": "15793030209206844069"
     },
     "user_tz": -60
    },
    "id": "2tZUrTCepyPs"
   },
   "outputs": [
    {
     "data": {
      "text/html": [
       "<div>\n",
       "<style scoped>\n",
       "    .dataframe tbody tr th:only-of-type {\n",
       "        vertical-align: middle;\n",
       "    }\n",
       "\n",
       "    .dataframe tbody tr th {\n",
       "        vertical-align: top;\n",
       "    }\n",
       "\n",
       "    .dataframe thead th {\n",
       "        text-align: right;\n",
       "    }\n",
       "</style>\n",
       "<table border=\"1\" class=\"dataframe\">\n",
       "  <thead>\n",
       "    <tr style=\"text-align: right;\">\n",
       "      <th></th>\n",
       "      <th>age</th>\n",
       "      <th>pixels</th>\n",
       "    </tr>\n",
       "  </thead>\n",
       "  <tbody>\n",
       "    <tr>\n",
       "      <th>0</th>\n",
       "      <td>45</td>\n",
       "      <td>200 168 96 107 123 132 132 135 135 134 134 137...</td>\n",
       "    </tr>\n",
       "    <tr>\n",
       "      <th>1</th>\n",
       "      <td>1</td>\n",
       "      <td>223 226 231 234 236 238 238 240 240 240 240 23...</td>\n",
       "    </tr>\n",
       "    <tr>\n",
       "      <th>2</th>\n",
       "      <td>35</td>\n",
       "      <td>23 29 24 29 47 71 110 141 166 169 169 174 179 ...</td>\n",
       "    </tr>\n",
       "    <tr>\n",
       "      <th>3</th>\n",
       "      <td>28</td>\n",
       "      <td>9 6 11 12 30 65 82 37 47 16 27 26 32 74 141 16...</td>\n",
       "    </tr>\n",
       "    <tr>\n",
       "      <th>4</th>\n",
       "      <td>24</td>\n",
       "      <td>67 66 63 59 61 62 60 66 83 103 139 173 192 194...</td>\n",
       "    </tr>\n",
       "    <tr>\n",
       "      <th>5</th>\n",
       "      <td>30</td>\n",
       "      <td>67 79 118 140 142 142 133 147 188 208 194 201 ...</td>\n",
       "    </tr>\n",
       "    <tr>\n",
       "      <th>6</th>\n",
       "      <td>4</td>\n",
       "      <td>16 18 15 9 8 11 6 7 10 8 9 14 13 12 16 21 21 1...</td>\n",
       "    </tr>\n",
       "    <tr>\n",
       "      <th>7</th>\n",
       "      <td>32</td>\n",
       "      <td>47 46 36 30 34 29 17 19 33 45 56 48 53 64 52 5...</td>\n",
       "    </tr>\n",
       "    <tr>\n",
       "      <th>8</th>\n",
       "      <td>51</td>\n",
       "      <td>237 239 237 214 114 69 85 205 172 67 60 127 14...</td>\n",
       "    </tr>\n",
       "    <tr>\n",
       "      <th>9</th>\n",
       "      <td>30</td>\n",
       "      <td>49 48 46 53 57 54 58 62 69 73 79 79 78 69 77 9...</td>\n",
       "    </tr>\n",
       "  </tbody>\n",
       "</table>\n",
       "</div>"
      ],
      "text/plain": [
       "   age                                             pixels\n",
       "0   45  200 168 96 107 123 132 132 135 135 134 134 137...\n",
       "1    1  223 226 231 234 236 238 238 240 240 240 240 23...\n",
       "2   35  23 29 24 29 47 71 110 141 166 169 169 174 179 ...\n",
       "3   28  9 6 11 12 30 65 82 37 47 16 27 26 32 74 141 16...\n",
       "4   24  67 66 63 59 61 62 60 66 83 103 139 173 192 194...\n",
       "5   30  67 79 118 140 142 142 133 147 188 208 194 201 ...\n",
       "6    4  16 18 15 9 8 11 6 7 10 8 9 14 13 12 16 21 21 1...\n",
       "7   32  47 46 36 30 34 29 17 19 33 45 56 48 53 64 52 5...\n",
       "8   51  237 239 237 214 114 69 85 205 172 67 60 127 14...\n",
       "9   30  49 48 46 53 57 54 58 62 69 73 79 79 78 69 77 9..."
      ]
     },
     "execution_count": 2,
     "metadata": {},
     "output_type": "execute_result"
    }
   ],
   "source": [
    "data = pd.read_csv(\"images.csv\")\n",
    "data = data.sample(frac=1, random_state=0).reset_index(drop=True)\n",
    "data.head(10)"
   ]
  },
  {
   "cell_type": "markdown",
   "metadata": {},
   "source": [
    "Each row represent the image of a face in black and white\n",
    "- `age` is the age in year\n",
    "- `pixels` contains the 2304 (= 48 * 48) flatten values of each pixel in the image, in a black scale from 0 to 255, stored as string"
   ]
  },
  {
   "cell_type": "markdown",
   "metadata": {},
   "source": [
    "**The histogram of age in the dataset.**"
   ]
  },
  {
   "cell_type": "code",
   "execution_count": 3,
   "metadata": {
    "ExecuteTime": {
     "end_time": "2021-09-10T13:30:09.163219Z",
     "start_time": "2021-09-10T13:30:08.919754Z"
    },
    "tags": [
     "challengify"
    ]
   },
   "outputs": [
    {
     "data": {
      "image/png": "[encoded data removed]",
      "text/plain": [
       "<Figure size 640x480 with 1 Axes>"
      ]
     },
     "metadata": {},
     "output_type": "display_data"
    }
   ],
   "source": [
    "plt.hist(data['age']);"
   ]
  },
  {
   "cell_type": "markdown",
   "metadata": {},
   "source": [
    "**Number of images**"
   ]
  },
  {
   "cell_type": "code",
   "execution_count": 4,
   "metadata": {},
   "outputs": [
    {
     "name": "stdout",
     "output_type": "stream",
     "text": [
      "In this dataset, we have 23705 images\n"
     ]
    }
   ],
   "source": [
    "print(f\"In this dataset, we have {data.shape[0]} images\")"
   ]
  },
  {
   "cell_type": "markdown",
   "metadata": {
    "id": "JQ1ew-IAwUNL"
   },
   "source": [
    "**Visually display one random image**"
   ]
  },
  {
   "cell_type": "code",
   "execution_count": 5,
   "metadata": {
    "ExecuteTime": {
     "end_time": "2021-09-10T13:30:09.760329Z",
     "start_time": "2021-09-10T13:30:09.641448Z"
    },
    "colab": {
     "base_uri": "https://localhost:8080/",
     "height": 284
    },
    "executionInfo": {
     "elapsed": 594,
     "status": "ok",
     "timestamp": 1615229800246,
     "user": {
      "displayName": "Bruno Lajoie",
      "photoUrl": "https://lh3.googleusercontent.com/a-/AOh14Gg0dl6gThG8gOPbCvHbgt62zQnsi8cgbQ7C5HkD_Cg=s64",
      "userId": "15793030209206844069"
     },
     "user_tz": -60
    },
    "id": "q9dLVirWwMoE",
    "outputId": "cd8b8794-35ff-4405-cef7-15909a03b846",
    "tags": [
     "challengify"
    ]
   },
   "outputs": [
    {
     "name": "stdout",
     "output_type": "stream",
     "text": [
      "This person's age is: 76\n"
     ]
    },
    {
     "data": {
      "image/png": "[encoded data removed]",
      "text/plain": [
       "<Figure size 640x480 with 1 Axes>"
      ]
     },
     "metadata": {},
     "output_type": "display_data"
    }
   ],
   "source": [
    "img = data.pixels[260]\n",
    "img = list(map(int, img.split()))\n",
    "img = np.array(img).reshape(48, 48)\n",
    "\n",
    "plt.imshow(img, cmap='gray')\n",
    "print(f\"This person's age is: {data.age[260]}\")\n",
    "plt.show();"
   ]
  },
  {
   "cell_type": "markdown",
   "metadata": {},
   "source": [
    "**Visually display another image**\n"
   ]
  },
  {
   "cell_type": "code",
   "execution_count": 6,
   "metadata": {
    "ExecuteTime": {
     "end_time": "2021-09-10T13:30:37.216365Z",
     "start_time": "2021-09-10T13:30:37.111539Z"
    },
    "tags": [
     "challengify"
    ]
   },
   "outputs": [
    {
     "name": "stdout",
     "output_type": "stream",
     "text": [
      "This person's age is: 27\n"
     ]
    },
    {
     "data": {
      "image/png": "[encoded data removed]",
      "text/plain": [
       "<Figure size 640x480 with 1 Axes>"
      ]
     },
     "metadata": {},
     "output_type": "display_data"
    }
   ],
   "source": [
    "img = data.pixels[60]\n",
    "img = list(map(int, img.split()))\n",
    "img = np.array(img).reshape(48, 48)\n",
    "\n",
    "plt.imshow(img, cmap='gray')\n",
    "print(f\"This person's age is: {data.age[60]}\")\n",
    "plt.show();"
   ]
  },
  {
   "cell_type": "markdown",
   "metadata": {
    "id": "AjeMU0GTwFSe"
   },
   "source": [
    "### 1.2 Processing"
   ]
  },
  {
   "cell_type": "markdown",
   "metadata": {},
   "source": [
    "- We create the **feature matrix** `X` as `ndarray` scaled between 0 and 1\n",
    "- We create the **target vector** `y` as `ndarray`\n",
    "- Then we create the holdout sets: 4 variables (`X_train`, `y_train`) and (`X_test`, `y_test`) keeping the **first** `70%` as the train set"
   ]
  },
  {
   "cell_type": "code",
   "execution_count": 12,
   "metadata": {
    "ExecuteTime": {
     "end_time": "2021-09-10T13:30:55.386164Z",
     "start_time": "2021-09-10T13:30:48.860705Z"
    },
    "executionInfo": {
     "elapsed": 7742,
     "status": "ok",
     "timestamp": 1615229809890,
     "user": {
      "displayName": "Bruno Lajoie",
      "photoUrl": "https://lh3.googleusercontent.com/a-/AOh14Gg0dl6gThG8gOPbCvHbgt62zQnsi8cgbQ7C5HkD_Cg=s64",
      "userId": "15793030209206844069"
     },
     "user_tz": -60
    },
    "id": "2MUSTFTFrp0V",
    "tags": [
     "challengify"
    ]
   },
   "outputs": [
    {
     "name": "stdout",
     "output_type": "stream",
     "text": [
      "<class 'numpy.ndarray'> (23705, 48, 48)\n",
      "<class 'numpy.ndarray'> (23705,)\n",
      "(16593, 48, 48, 1)\n",
      "(7112, 48, 48, 1)\n"
     ]
    }
   ],
   "source": [
    "from sklearn.model_selection import train_test_split\n",
    "from tensorflow.keras.backend import expand_dims\n",
    "\n",
    "#Setting X\n",
    "list_img = []\n",
    "for i in range(data.shape[0]):\n",
    "    img = data[\"pixels\"][i]\n",
    "    img = list(map(float, img.split()))\n",
    "    img = np.array(img)/255\n",
    "    img = img.reshape(48, 48)\n",
    "    list_img.append(img)   \n",
    "X = np.array(list_img)\n",
    "\n",
    "#Setting y\n",
    "y = np.array(data['age'])\n",
    "\n",
    "#check type and shape\n",
    "print(type(X), X.shape)\n",
    "print(type(y), y.shape)\n",
    "\n",
    "#creating train and test holdout\n",
    "X_train, X_test, y_train, y_test = train_test_split(X, y, test_size=0.3, random_state=42)\n",
    "\n",
    "#add a dimension to fit a CNN:\n",
    "X_train = expand_dims(X_train, axis=-1)\n",
    "X_test = expand_dims(X_test, axis=-1)\n",
    "\n",
    "print(X_train.shape)\n",
    "print(X_test.shape)"
   ]
  },
  {
   "cell_type": "markdown",
   "metadata": {
    "id": "3bSHDYC8OlrL"
   },
   "source": [
    "### 1.3 Modeling the age of a face"
   ]
  },
  {
   "cell_type": "markdown",
   "metadata": {},
   "source": [
    "❓ **Evaluating the baseline score**\n",
    "(we always predict mean age)"
   ]
  },
  {
   "cell_type": "code",
   "execution_count": 13,
   "metadata": {
    "ExecuteTime": {
     "end_time": "2021-09-10T13:31:15.147745Z",
     "start_time": "2021-09-10T13:31:15.138524Z"
    },
    "tags": [
     "challengify"
    ]
   },
   "outputs": [
    {
     "data": {
      "text/plain": [
       "15.34814871735347"
      ]
     },
     "execution_count": 13,
     "metadata": {},
     "output_type": "execute_result"
    }
   ],
   "source": [
    "err = np.absolute(y - y.mean())\n",
    "score_baseline = err.mean()\n",
    "score_baseline"
   ]
  },
  {
   "cell_type": "markdown",
   "metadata": {},
   "source": [
    "**Building and fitting a convolutional neural network**"
   ]
  },
  {
   "cell_type": "code",
   "execution_count": 21,
   "metadata": {
    "ExecuteTime": {
     "end_time": "2021-09-10T13:31:29.232178Z",
     "start_time": "2021-09-10T13:31:29.163506Z"
    },
    "colab": {
     "base_uri": "https://localhost:8080/"
    },
    "executionInfo": {
     "elapsed": 427,
     "status": "ok",
     "timestamp": 1615231554099,
     "user": {
      "displayName": "Bruno Lajoie",
      "photoUrl": "https://lh3.googleusercontent.com/a-/AOh14Gg0dl6gThG8gOPbCvHbgt62zQnsi8cgbQ7C5HkD_Cg=s64",
      "userId": "15793030209206844069"
     },
     "user_tz": -60
    },
    "id": "o-vaYNoXTQPS",
    "outputId": "4fe2b570-77a5-4f38-daa7-ff1f5f1fac02",
    "tags": [
     "challengify"
    ]
   },
   "outputs": [
    {
     "name": "stdout",
     "output_type": "stream",
     "text": [
      "Epoch 1/200\n",
      "363/363 [==============================] - 11s 28ms/step - loss: 566.1052 - mae: 18.4486 - val_loss: 411.0345 - val_mae: 14.9589\n",
      "Epoch 2/200\n",
      "363/363 [==============================] - 10s 28ms/step - loss: 456.9772 - mae: 16.5782 - val_loss: 341.8593 - val_mae: 14.5083\n",
      "Epoch 3/200\n",
      "363/363 [==============================] - 11s 29ms/step - loss: 409.0967 - mae: 15.7012 - val_loss: 281.4431 - val_mae: 12.9540\n",
      "Epoch 4/200\n",
      "363/363 [==============================] - 12s 33ms/step - loss: 374.1130 - mae: 14.9607 - val_loss: 257.5630 - val_mae: 12.2613\n",
      "Epoch 5/200\n",
      "363/363 [==============================] - 12s 32ms/step - loss: 354.9827 - mae: 14.5111 - val_loss: 241.1732 - val_mae: 12.1510\n",
      "Epoch 6/200\n",
      "363/363 [==============================] - 12s 32ms/step - loss: 353.2890 - mae: 14.3907 - val_loss: 236.3353 - val_mae: 11.9580\n",
      "Epoch 7/200\n",
      "363/363 [==============================] - 12s 32ms/step - loss: 333.7137 - mae: 13.9951 - val_loss: 251.5050 - val_mae: 11.8452\n",
      "Epoch 8/200\n",
      "363/363 [==============================] - 12s 32ms/step - loss: 331.4133 - mae: 13.9172 - val_loss: 241.1984 - val_mae: 11.6587\n",
      "Epoch 9/200\n",
      "363/363 [==============================] - 12s 32ms/step - loss: 323.1623 - mae: 13.7340 - val_loss: 234.7418 - val_mae: 11.4138\n",
      "Epoch 10/200\n",
      "363/363 [==============================] - 12s 32ms/step - loss: 316.5988 - mae: 13.5907 - val_loss: 246.2710 - val_mae: 11.6869\n",
      "Epoch 11/200\n",
      "363/363 [==============================] - 12s 32ms/step - loss: 298.7689 - mae: 13.2157 - val_loss: 223.9150 - val_mae: 11.3659\n",
      "Epoch 12/200\n",
      "363/363 [==============================] - 12s 32ms/step - loss: 288.0332 - mae: 13.0512 - val_loss: 207.3748 - val_mae: 10.9581\n",
      "Epoch 13/200\n",
      "363/363 [==============================] - 12s 32ms/step - loss: 273.3592 - mae: 12.6841 - val_loss: 214.3277 - val_mae: 10.9523\n",
      "Epoch 14/200\n",
      "363/363 [==============================] - 12s 32ms/step - loss: 274.5883 - mae: 12.5979 - val_loss: 206.6685 - val_mae: 10.7146\n",
      "Epoch 15/200\n",
      "363/363 [==============================] - 12s 32ms/step - loss: 270.0482 - mae: 12.5079 - val_loss: 190.8204 - val_mae: 10.3952\n",
      "Epoch 16/200\n",
      "363/363 [==============================] - 12s 32ms/step - loss: 262.0962 - mae: 12.2861 - val_loss: 182.1787 - val_mae: 10.1502\n",
      "Epoch 17/200\n",
      "363/363 [==============================] - 12s 32ms/step - loss: 260.0620 - mae: 12.2098 - val_loss: 179.0412 - val_mae: 10.0743\n",
      "Epoch 18/200\n",
      "363/363 [==============================] - 12s 32ms/step - loss: 254.1505 - mae: 11.9513 - val_loss: 197.0369 - val_mae: 10.4539\n",
      "Epoch 19/200\n",
      "363/363 [==============================] - 12s 32ms/step - loss: 251.0347 - mae: 11.9345 - val_loss: 181.7318 - val_mae: 9.9663\n",
      "Epoch 20/200\n",
      "363/363 [==============================] - 12s 33ms/step - loss: 247.4441 - mae: 11.7892 - val_loss: 180.1907 - val_mae: 9.9274\n",
      "Epoch 21/200\n",
      "363/363 [==============================] - 13s 35ms/step - loss: 241.7889 - mae: 11.6899 - val_loss: 159.2241 - val_mae: 9.6002\n",
      "Epoch 22/200\n",
      "363/363 [==============================] - 12s 34ms/step - loss: 235.1942 - mae: 11.5616 - val_loss: 169.1396 - val_mae: 9.6637\n",
      "Epoch 23/200\n",
      "363/363 [==============================] - 12s 33ms/step - loss: 231.0939 - mae: 11.4860 - val_loss: 189.8877 - val_mae: 10.1254\n",
      "Epoch 24/200\n",
      "363/363 [==============================] - 13s 36ms/step - loss: 223.3793 - mae: 11.2146 - val_loss: 146.4095 - val_mae: 9.1328\n",
      "Epoch 25/200\n",
      "363/363 [==============================] - 12s 33ms/step - loss: 226.7598 - mae: 11.3104 - val_loss: 175.5628 - val_mae: 9.7243\n",
      "Epoch 26/200\n",
      "363/363 [==============================] - 12s 33ms/step - loss: 217.3038 - mae: 11.0537 - val_loss: 151.6294 - val_mae: 9.1303\n",
      "Epoch 27/200\n",
      "363/363 [==============================] - 12s 33ms/step - loss: 218.3347 - mae: 11.0982 - val_loss: 155.5076 - val_mae: 9.2438\n",
      "Epoch 28/200\n",
      "363/363 [==============================] - 12s 33ms/step - loss: 212.8573 - mae: 10.9314 - val_loss: 152.7489 - val_mae: 9.1173\n",
      "Epoch 29/200\n",
      "363/363 [==============================] - 12s 33ms/step - loss: 207.7960 - mae: 10.7867 - val_loss: 141.0058 - val_mae: 8.8837\n",
      "Epoch 30/200\n",
      "363/363 [==============================] - 13s 36ms/step - loss: 206.7288 - mae: 10.6880 - val_loss: 155.9578 - val_mae: 9.2287\n",
      "Epoch 31/200\n",
      "363/363 [==============================] - 12s 33ms/step - loss: 204.6358 - mae: 10.6897 - val_loss: 160.5269 - val_mae: 9.3709\n",
      "Epoch 32/200\n",
      "363/363 [==============================] - 12s 33ms/step - loss: 197.9292 - mae: 10.5261 - val_loss: 159.3918 - val_mae: 9.2427\n",
      "Epoch 33/200\n",
      "363/363 [==============================] - 12s 33ms/step - loss: 198.8993 - mae: 10.5921 - val_loss: 137.9004 - val_mae: 8.7367\n",
      "Epoch 34/200\n",
      "363/363 [==============================] - 12s 33ms/step - loss: 197.3761 - mae: 10.5673 - val_loss: 146.4667 - val_mae: 8.9551\n",
      "Epoch 35/200\n",
      "363/363 [==============================] - 12s 33ms/step - loss: 198.9889 - mae: 10.5633 - val_loss: 129.6738 - val_mae: 8.5673\n",
      "Epoch 36/200\n",
      "363/363 [==============================] - 12s 34ms/step - loss: 191.6775 - mae: 10.3504 - val_loss: 131.7399 - val_mae: 8.5570\n",
      "Epoch 37/200\n",
      "363/363 [==============================] - 12s 33ms/step - loss: 191.5396 - mae: 10.3951 - val_loss: 132.2063 - val_mae: 8.5287\n",
      "Epoch 38/200\n",
      "363/363 [==============================] - 12s 33ms/step - loss: 186.8675 - mae: 10.2130 - val_loss: 133.3040 - val_mae: 8.8432\n",
      "Epoch 39/200\n",
      "363/363 [==============================] - 12s 33ms/step - loss: 189.3995 - mae: 10.3248 - val_loss: 127.8374 - val_mae: 8.4278\n",
      "Epoch 40/200\n",
      "363/363 [==============================] - 12s 33ms/step - loss: 184.1184 - mae: 10.2045 - val_loss: 126.6691 - val_mae: 8.3846\n",
      "Epoch 41/200\n",
      "363/363 [==============================] - 12s 33ms/step - loss: 182.5433 - mae: 10.1093 - val_loss: 142.1026 - val_mae: 8.8041\n",
      "Epoch 42/200\n",
      "363/363 [==============================] - 12s 33ms/step - loss: 181.2238 - mae: 10.1264 - val_loss: 120.9464 - val_mae: 8.2937\n",
      "Epoch 43/200\n",
      "363/363 [==============================] - 12s 33ms/step - loss: 178.6009 - mae: 10.0064 - val_loss: 136.9436 - val_mae: 8.7699\n",
      "Epoch 44/200\n",
      "363/363 [==============================] - 12s 33ms/step - loss: 179.0701 - mae: 9.9897 - val_loss: 127.5495 - val_mae: 8.4135\n",
      "Epoch 45/200\n",
      "363/363 [==============================] - 12s 33ms/step - loss: 170.9807 - mae: 9.8127 - val_loss: 170.6743 - val_mae: 9.6942\n",
      "Epoch 46/200\n",
      "363/363 [==============================] - 12s 33ms/step - loss: 170.4523 - mae: 9.8544 - val_loss: 121.4017 - val_mae: 8.3275\n",
      "Epoch 47/200\n",
      "363/363 [==============================] - 12s 33ms/step - loss: 173.1951 - mae: 9.8706 - val_loss: 119.6664 - val_mae: 8.2486\n",
      "Epoch 48/200\n",
      "363/363 [==============================] - 12s 33ms/step - loss: 172.3222 - mae: 9.8249 - val_loss: 117.8231 - val_mae: 8.1821\n",
      "Epoch 49/200\n",
      "363/363 [==============================] - 12s 33ms/step - loss: 169.4477 - mae: 9.8381 - val_loss: 123.7012 - val_mae: 8.3254\n",
      "Epoch 50/200\n",
      "363/363 [==============================] - 12s 33ms/step - loss: 169.6739 - mae: 9.8174 - val_loss: 132.5683 - val_mae: 8.5438\n",
      "Epoch 51/200\n",
      "363/363 [==============================] - 12s 33ms/step - loss: 169.5361 - mae: 9.8003 - val_loss: 119.4438 - val_mae: 8.2422\n",
      "Epoch 52/200\n",
      "363/363 [==============================] - 12s 33ms/step - loss: 166.7762 - mae: 9.7345 - val_loss: 155.1262 - val_mae: 9.2964\n",
      "Epoch 53/200\n",
      "363/363 [==============================] - 12s 33ms/step - loss: 162.7845 - mae: 9.6635 - val_loss: 118.3556 - val_mae: 8.1943\n"
     ]
    }
   ],
   "source": [
    "from tensorflow.keras import layers\n",
    "from tensorflow.keras import models\n",
    "from tensorflow.keras.callbacks import EarlyStopping\n",
    "\n",
    "def initialize_model():\n",
    "    model = models.Sequential()\n",
    "\n",
    "    ### First Convolution & MaxPooling\n",
    "    model.add(layers.Conv2D(8, (4,4), input_shape=(48, 48, 1), activation='relu', padding='same'))\n",
    "    model.add(layers.MaxPool2D(pool_size=(2,2)))\n",
    "    \n",
    "    ### Second Convolution & MaxPooling\n",
    "    model.add(layers.Conv2D(16, (3,3), activation='relu', padding='same'))\n",
    "    model.add(layers.MaxPool2D(pool_size=(2,2)))\n",
    "    \n",
    "    ### Prevent overfitting\n",
    "    model.add(layers.Dropout(rate=0.2)) \n",
    "    \n",
    "    ### Third Convolution & MaxPooling\n",
    "    model.add(layers.Conv2D(32, (3,3), activation='relu', padding='same'))\n",
    "    model.add(layers.MaxPool2D(pool_size=(2,2)))\n",
    "    \n",
    "    ### Flattening\n",
    "    model.add(layers.Flatten())\n",
    "\n",
    "    ### One Fully Connected layer - \"Fully Connected\" is equivalent to saying \"Dense\"\n",
    "    model.add(layers.Dense(10, activation='relu'))\n",
    "\n",
    "    ### Prevent overfitting\n",
    "    model.add(layers.Dropout(rate=0.2))\n",
    "    \n",
    "    ### Last layer - Regression task with one output\n",
    "    model.add(layers.Dense(1, activation='linear'))\n",
    "    \n",
    "    ### Model compilation\n",
    "    model.compile(loss='mse',\n",
    "                  optimizer='adam', \n",
    "                  metrics=['mae'])\n",
    "    \n",
    "    return model\n",
    "\n",
    "model = initialize_model()\n",
    "es = EarlyStopping(patience = 5, restore_best_weights=True)\n",
    "\n",
    "history = model.fit(X_train, \n",
    "                    y_train,\n",
    "                    validation_split = 0.3,\n",
    "                    batch_size = 32,\n",
    "                    epochs = 200,\n",
    "                    callbacks = [es],\n",
    "                    verbose = 1)"
   ]
  },
  {
   "cell_type": "markdown",
   "metadata": {},
   "source": [
    "**Plotting the training and validation MAE at each epoch**"
   ]
  },
  {
   "cell_type": "code",
   "execution_count": 22,
   "metadata": {
    "ExecuteTime": {
     "end_time": "2021-09-10T13:38:13.987857Z",
     "start_time": "2021-09-10T13:38:13.959791Z"
    }
   },
   "outputs": [
    {
     "data": {
      "image/png": "[encoded data removed]",
      "text/plain": [
       "<Figure size 2000x700 with 2 Axes>"
      ]
     },
     "metadata": {},
     "output_type": "display_data"
    }
   ],
   "source": [
    "def plot_loss_mae(history):\n",
    "    fig, ax = plt.subplots(1,2, figsize=(20,7))\n",
    "    \n",
    "    # --- LOSS --- \n",
    "    \n",
    "    ax[0].plot(history.history['loss'])\n",
    "    ax[0].plot(history.history['val_loss'])\n",
    "    ax[0].set_title('Model loss')\n",
    "    ax[0].set_ylabel('Loss')\n",
    "    ax[0].set_xlabel('Epoch')\n",
    "    ax[0].legend(['Train', 'Val'], loc='best')\n",
    "\n",
    "    \n",
    "    # --- MAE\n",
    "    \n",
    "    \n",
    "    ax[1].plot(history.history['mae'])\n",
    "    ax[1].plot(history.history['val_mae'])\n",
    "    ax[1].set_title('Model MAE')\n",
    "    ax[1].set_ylabel('MAE')\n",
    "    ax[1].set_xlabel('Epoch')\n",
    "    ax[1].legend(['Train', 'Val'], loc='best')\n",
    "\n",
    "\n",
    "plot_loss_mae(history)"
   ]
  },
  {
   "cell_type": "markdown",
   "metadata": {},
   "source": [
    "**Evaluate the performances on test set**"
   ]
  },
  {
   "cell_type": "code",
   "execution_count": 23,
   "metadata": {
    "ExecuteTime": {
     "end_time": "2021-09-10T13:39:01.322864Z",
     "start_time": "2021-09-10T13:38:59.648669Z"
    },
    "colab": {
     "base_uri": "https://localhost:8080/"
    },
    "executionInfo": {
     "elapsed": 1032,
     "status": "ok",
     "timestamp": 1615231968574,
     "user": {
      "displayName": "Bruno Lajoie",
      "photoUrl": "https://lh3.googleusercontent.com/a-/AOh14Gg0dl6gThG8gOPbCvHbgt62zQnsi8cgbQ7C5HkD_Cg=s64",
      "userId": "15793030209206844069"
     },
     "user_tz": -60
    },
    "id": "RQMpEc4ITdne",
    "outputId": "9a0a5643-6652-4a68-aa86-cd671733ca17",
    "scrolled": true,
    "tags": [
     "challengify"
    ]
   },
   "outputs": [
    {
     "name": "stdout",
     "output_type": "stream",
     "text": [
      "223/223 [==============================] - 2s 10ms/step - loss: 116.8417 - mae: 8.0558\n"
     ]
    },
    {
     "data": {
      "text/plain": [
       "8.055764198303223"
      ]
     },
     "execution_count": 23,
     "metadata": {},
     "output_type": "execute_result"
    }
   ],
   "source": [
    "score_test = model.evaluate(X_test, y_test, verbose = 1)[1]\n",
    "score_test"
   ]
  },
  {
   "attachments": {},
   "cell_type": "markdown",
   "metadata": {},
   "source": [
    "The score has improved significantly comparing to the baseline.\n",
    "\n",
    "The final`score_test` means that the model can predict the age of a person with a precision of +/- 8 years"
   ]
  }
 ],
 "metadata": {
  "accelerator": "GPU",
  "colab": {
   "authorship_tag": "ABX9TyMOYn4GJAg9EKtu1bGhcoI1",
   "collapsed_sections": [],
   "name": "certification_DL_images",
   "provenance": [],
   "toc_visible": true
  },
  "kernelspec": {
   "display_name": "Python 3 (ipykernel)",
   "language": "python",
   "name": "python3"
  },
  "language_info": {
   "codemirror_mode": {
    "name": "ipython",
    "version": 3
   },
   "file_extension": ".py",
   "mimetype": "text/x-python",
   "name": "python",
   "nbconvert_exporter": "python",
   "pygments_lexer": "ipython3",
   "version": "3.10.6"
  },
  "toc": {
   "base_numbering": 1,
   "nav_menu": {},
   "number_sections": false,
   "sideBar": true,
   "skip_h1_title": false,
   "title_cell": "Table of Contents",
   "title_sidebar": "Contents",
   "toc_cell": false,
   "toc_position": {
    "height": "calc(100% - 180px)",
    "left": "10px",
    "top": "150px",
    "width": "224px"
   },
   "toc_section_display": true,
   "toc_window_display": true
  },
  "varInspector": {
   "cols": {
    "lenName": 16,
    "lenType": 16,
    "lenVar": 40
   },
   "kernels_config": {
    "python": {
     "delete_cmd_postfix": "",
     "delete_cmd_prefix": "del ",
     "library": "var_list.py",
     "varRefreshCmd": "print(var_dic_list())"
    },
    "r": {
     "delete_cmd_postfix": ") ",
     "delete_cmd_prefix": "rm(",
     "library": "var_list.r",
     "varRefreshCmd": "cat(var_dic_list()) "
    }
   },
   "types_to_exclude": [
    "module",
    "function",
    "builtin_function_or_method",
    "instance",
    "_Feature"
   ],
   "window_display": false
  }
 },
 "nbformat": 4,
 "nbformat_minor": 1
}
